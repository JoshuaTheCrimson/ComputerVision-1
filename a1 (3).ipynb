{
 "cells": [
  {
   "cell_type": "code",
   "execution_count": 2,
   "id": "initial_id",
   "metadata": {},
   "outputs": [],
   "source": [
    "# Section 1: Importing Necessary Libraries\n",
    "# Importing libraries for loading the MNIST dataset and hyperparameter tuning\n",
    "from tensorflow.keras.datasets import mnist\n",
    "import keras_tuner as kt\n",
    "from kerastuner.engine.hyperparameters import HyperParameters\n",
    "from tensorflow.keras import layers, models\n",
    "import numpy as np\n",
    "from tensorflow.keras.models import Sequential\n",
    "from tensorflow.keras.layers import Flatten, Dense, Dropout\n",
    "from a1 import build_deep_nn"
   ]
  },
  {
   "cell_type": "code",
   "execution_count": 3,
   "id": "2cab5418-c8ca-487f-bf58-70eb100d24c7",
   "metadata": {
    "ExecuteTime": {
     "end_time": "2024-03-07T12:39:49.375641Z",
     "start_time": "2024-03-07T12:39:49.290920Z"
    }
   },
   "outputs": [
    {
     "name": "stdout",
     "output_type": "stream",
     "text": [
      "Training images shape: (60000, 28, 28)\n",
      "Training labels shape: (60000,)\n",
      "Test images shape: (10000, 28, 28)\n",
      "Test labels shape: (10000,)\n"
     ]
    }
   ],
   "source": [
    "from tensorflow.keras.datasets import mnist\n",
    "\n",
    "# Section 2: Loading the MNIST Dataset\n",
    "\n",
    "# Load the MNIST dataset\n",
    "(train_images, train_labels), (test_images, test_labels) = mnist.load_data()\n",
    "\n",
    "# Normalize the pixel values to the range [0, 1]\n",
    "train_images = train_images.astype('float32') / 255.0\n",
    "test_images = test_images.astype('float32') / 255.0\n",
    "\n",
    "# Print the shape of the training and test sets\n",
    "print(\"Training images shape:\", train_images.shape)\n",
    "print(\"Training labels shape:\", train_labels.shape)\n",
    "print(\"Test images shape:\", test_images.shape)\n",
    "print(\"Test labels shape:\", test_labels.shape)\n"
   ]
  },
  {
   "cell_type": "code",
   "execution_count": 4,
   "id": "95920fe3-411a-4a35-9d42-6d00ecb1c15b",
   "metadata": {
    "ExecuteTime": {
     "end_time": "2024-03-07T12:39:50.841283Z",
     "start_time": "2024-03-07T12:39:50.834369Z"
    }
   },
   "outputs": [
    {
     "name": "stdout",
     "output_type": "stream",
     "text": [
      "Reloading Tuner from keras_tuner_dir/mnist_hyperparameter_tuning/tuner0.json\n",
      "Best Hyperparameters:\n",
      "<keras_tuner.src.engine.hyperparameters.hyperparameters.HyperParameters object at 0x280f9b650>\n"
     ]
    }
   ],
   "source": [
    "# Section 3: Defining the Hyperparameter Search Space and Tuning\n",
    "\n",
    "# Define the search space for hyperparameters\n",
    "def model_builder(hp):\n",
    "    model = Sequential()\n",
    "    model.add(Flatten(input_shape=(28, 28)))  # Input layer\n",
    "\n",
    "    # Tune the number of hidden layers (1 to 3)\n",
    "    hp_num_hidden = hp.Int('num_hidden', min_value=1, max_value=3)\n",
    "    for i in range(hp_num_hidden):\n",
    "        # Tune the size of each hidden layer (100 to 512)\n",
    "        hp_hidden_size = hp.Int(f'hidden_size_{i}', min_value=100, max_value=512)\n",
    "        model.add(Dense(units=hp_hidden_size, activation='relu'))\n",
    "        \n",
    "        # Tune the dropout rate for each hidden layer (0.0 to 0.5)\n",
    "        hp_dropout_rate = hp.Float(f'dropout_rate_{i}', min_value=0.0, max_value=0.5)\n",
    "        model.add(Dropout(rate=hp_dropout_rate))\n",
    "\n",
    "    # Output layer\n",
    "    model.add(Dense(units=10, activation='softmax'))\n",
    "\n",
    "    # Compile the model\n",
    "    model.compile(optimizer='adam',\n",
    "                  loss='sparse_categorical_crossentropy',\n",
    "                  metrics=['accuracy'])\n",
    "    \n",
    "    return model\n",
    "\n",
    "# Initialize the tuner\n",
    "tuner = kt.Hyperband(model_builder,\n",
    "                     objective='val_accuracy',\n",
    "                     max_epochs=10,\n",
    "                     factor=3,\n",
    "                     directory='keras_tuner_dir',\n",
    "                     project_name='mnist_hyperparameter_tuning')\n",
    "\n",
    "# Perform the hyperparameter search\n",
    "tuner.search(train_images, train_labels,\n",
    "             epochs=10,\n",
    "             validation_split=0.2)\n",
    "\n",
    "# Get the best hyperparameters\n",
    "best_hps = tuner.get_best_hyperparameters(num_trials=1)[0]\n",
    "print(\"Best Hyperparameters:\")\n",
    "print(best_hps)\n"
   ]
  },
  {
   "cell_type": "code",
   "execution_count": 5,
   "id": "3c853b8c-9b72-4bf9-b004-e138743e1f61",
   "metadata": {
    "ExecuteTime": {
     "end_time": "2024-03-07T12:39:51.633472Z",
     "start_time": "2024-03-07T12:39:51.627285Z"
    }
   },
   "outputs": [
    {
     "name": "stdout",
     "output_type": "stream",
     "text": [
      "Epoch 1/10\n",
      "  56/1500 [>.............................] - ETA: 1s - loss: 1.0598 - accuracy: 0.6858  "
     ]
    },
    {
     "name": "stderr",
     "output_type": "stream",
     "text": [
      "2024-03-08 17:51:48.639482: W tensorflow/tsl/platform/profile_utils/cpu_utils.cc:128] Failed to get CPU frequency: 0 Hz\n"
     ]
    },
    {
     "name": "stdout",
     "output_type": "stream",
     "text": [
      "1500/1500 [==============================] - 2s 1ms/step - loss: 0.2729 - accuracy: 0.9196 - val_loss: 0.1330 - val_accuracy: 0.9613\n",
      "Epoch 2/10\n",
      "1500/1500 [==============================] - 2s 1ms/step - loss: 0.1251 - accuracy: 0.9625 - val_loss: 0.0960 - val_accuracy: 0.9710\n",
      "Epoch 3/10\n",
      "1500/1500 [==============================] - 2s 1ms/step - loss: 0.0882 - accuracy: 0.9727 - val_loss: 0.0834 - val_accuracy: 0.9737\n",
      "Epoch 4/10\n",
      "1500/1500 [==============================] - 2s 1ms/step - loss: 0.0729 - accuracy: 0.9767 - val_loss: 0.0831 - val_accuracy: 0.9743\n",
      "Epoch 5/10\n",
      "1500/1500 [==============================] - 2s 1ms/step - loss: 0.0570 - accuracy: 0.9818 - val_loss: 0.0807 - val_accuracy: 0.9779\n",
      "Epoch 6/10\n",
      "1500/1500 [==============================] - 2s 1ms/step - loss: 0.0486 - accuracy: 0.9839 - val_loss: 0.0806 - val_accuracy: 0.9760\n",
      "Epoch 7/10\n",
      "1500/1500 [==============================] - 2s 1ms/step - loss: 0.0431 - accuracy: 0.9855 - val_loss: 0.0765 - val_accuracy: 0.9788\n",
      "Epoch 8/10\n",
      "1500/1500 [==============================] - 2s 1ms/step - loss: 0.0364 - accuracy: 0.9874 - val_loss: 0.0799 - val_accuracy: 0.9794\n",
      "Epoch 9/10\n",
      "1500/1500 [==============================] - 2s 1ms/step - loss: 0.0324 - accuracy: 0.9894 - val_loss: 0.0843 - val_accuracy: 0.9787\n",
      "Epoch 10/10\n",
      "1500/1500 [==============================] - 2s 1ms/step - loss: 0.0324 - accuracy: 0.9888 - val_loss: 0.0758 - val_accuracy: 0.9807\n"
     ]
    }
   ],
   "source": [
    "# Section 4: Training the Model with the Best Hyperparameters\n",
    "\n",
    "# Build the model with the best hyperparameters\n",
    "model = tuner.hypermodel.build(best_hps)\n",
    "\n",
    "# Train the model\n",
    "history = model.fit(train_images, train_labels, epochs=10, validation_split=0.2)\n"
   ]
  },
  {
   "cell_type": "code",
   "execution_count": 7,
   "id": "2a1baf48-1ba0-4ca6-8a20-963ad53212a1",
   "metadata": {},
   "outputs": [
    {
     "name": "stdout",
     "output_type": "stream",
     "text": [
      "313/313 [==============================] - 0s 457us/step - loss: 0.0659 - accuracy: 0.9822\n",
      "Test Loss: 0.06587814539670944\n",
      "Test Accuracy: 0.982200026512146\n"
     ]
    }
   ],
   "source": [
    "# Section 5: Evaluating the Model on the Test Set\n",
    "\n",
    "# Evaluate the model on the test set\n",
    "test_loss, test_accuracy = model.evaluate(test_images, test_labels)\n",
    "\n",
    "print(\"Test Loss:\", test_loss)\n",
    "print(\"Test Accuracy:\", test_accuracy)\n",
    "\n",
    "\n"
   ]
  },
  {
   "cell_type": "code",
   "execution_count": null,
   "id": "70cca4a4-7378-49b1-aa1d-4cb6e9a6bbd0",
   "metadata": {},
   "outputs": [],
   "source": []
  },
  {
   "cell_type": "code",
   "execution_count": null,
   "id": "1fe00f5c-497d-43a8-b5aa-3987e223195c",
   "metadata": {},
   "outputs": [],
   "source": []
  }
 ],
 "metadata": {
  "kernelspec": {
   "display_name": "Python 3 (ipykernel)",
   "language": "python",
   "name": "python3"
  },
  "language_info": {
   "codemirror_mode": {
    "name": "ipython",
    "version": 3
   },
   "file_extension": ".py",
   "mimetype": "text/x-python",
   "name": "python",
   "nbconvert_exporter": "python",
   "pygments_lexer": "ipython3",
   "version": "3.11.5"
  }
 },
 "nbformat": 4,
 "nbformat_minor": 5
}
